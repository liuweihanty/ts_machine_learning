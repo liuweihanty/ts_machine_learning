{
 "cells": [
  {
   "cell_type": "code",
   "execution_count": 1,
   "metadata": {},
   "outputs": [],
   "source": [
    "import pandas as pd\n",
    "import numpy as np"
   ]
  },
  {
   "cell_type": "code",
   "execution_count": 4,
   "metadata": {},
   "outputs": [],
   "source": [
    "ts_96 = pd.read_csv(\"../data/96ts_work_data.csv\", index_col = 0)\n",
    "cols = ts_96.columns.tolist()"
   ]
  },
  {
   "cell_type": "code",
   "execution_count": 7,
   "metadata": {},
   "outputs": [
    {
     "data": {
      "text/plain": [
       "['Gene',\n",
       " 'Entrez.GeneID',\n",
       " 'ENSEMBL_ID',\n",
       " 'Brum.HAP1.GTS',\n",
       " 'Brum.KBM7.GTS',\n",
       " 'Chen2019.pos.score',\n",
       " 'Chen.pvalue',\n",
       " 'Chen.fdr',\n",
       " 'Chen.ts.rank',\n",
       " 'Doen.avg.LFC',\n",
       " 'Doen.avg.neg.log.pvalue',\n",
       " 'Elle13.pvalue',\n",
       " 'Elle13.fdr',\n",
       " 'Elle13.lasso.prob',\n",
       " 'Elle18.HMEC.avg.LFC',\n",
       " 'Elle18.HMEC.combined.pvalue',\n",
       " 'Elle18.HMEC.fdr',\n",
       " 'Elle18.HPNE.avg.LFC',\n",
       " 'Elle18.HPNE.Combined.pvalue',\n",
       " 'Elle18.HPNE.fdr',\n",
       " 'Saba15.GTS',\n",
       " 'Saba15.KBM7.cs',\n",
       " 'Saba15.KBM7.fdr',\n",
       " 'Saba15.K562.cs',\n",
       " 'Saba15.K562.fdr',\n",
       " 'Saba15.Jiyoye.cs',\n",
       " 'Saba15.Jiyoye.fdr',\n",
       " 'Saba15.Raji.cs',\n",
       " 'Saba15.Raji.fdr',\n",
       " 'Saba17.EOL1',\n",
       " 'Saba17.HEL',\n",
       " 'Saba17.MOLM13',\n",
       " 'Saba17.MonoMac1',\n",
       " 'Saba17.NB4.rep1',\n",
       " 'Saba17.NB4.rep2',\n",
       " 'Saba17.OCI.AML2',\n",
       " 'Saba17.OCI.AML3',\n",
       " 'Saba17.OCI.AML5',\n",
       " 'Saba17.P31.FUJ',\n",
       " 'Saba17.PL21',\n",
       " 'Saba17.SKM1',\n",
       " 'Saba17.TF1',\n",
       " 'Saba17.THP1',\n",
       " 'Weis16.csa.MW.pvalue',\n",
       " 'Weis16.csa.avg',\n",
       " 'Weis16.csi.MW.pvalue',\n",
       " 'Weis16.csi.avg']"
      ]
     },
     "execution_count": 7,
     "metadata": {},
     "output_type": "execute_result"
    }
   ],
   "source": [
    "cols"
   ]
  },
  {
   "cell_type": "code",
   "execution_count": 9,
   "metadata": {},
   "outputs": [],
   "source": [
    "metadata = pd.read_excel(\"../data/cancer_type_metadata.xlsx\", index_col = 0)"
   ]
  },
  {
   "cell_type": "code",
   "execution_count": 10,
   "metadata": {},
   "outputs": [
    {
     "data": {
      "text/plain": [
       "Brum.HAP1.GTS                  1\n",
       "Brum.KBM7.GTS                  1\n",
       "Chen.cs                        1\n",
       "Chen.pvalue                    1\n",
       "Chen.fdr                       1\n",
       "Chen.ts.rank                   1\n",
       "Weis14.csa.avg                 1\n",
       "Doen.avg.LFC                   2\n",
       "Doen.avg.neg.log.pvalue        2\n",
       "Elle13.pvalue                  1\n",
       "Elle13.fdr                     1\n",
       "Elle13.lasso.prob              1\n",
       "Elle18.HMEC.avg.LFC            1\n",
       "Elle18.HMEC.combined.pvalue    1\n",
       "Elle18.HMEC.fdr                1\n",
       "Elle18.HPNE.avg.LFC            1\n",
       "Elle18.HPNE.Combined.pvalue    1\n",
       "Elle18.HPNE.fdr                1\n",
       "Sabb15.KBM7.cs                 1\n",
       "Sabb15.KBM7.fdr                1\n",
       "Sabb15.K562.cs                 1\n",
       "Sabb15.K562.fdr                1\n",
       "Sabb15.Jiyoye.cs               1\n",
       "Sabb15.Jiyoye.fdr              1\n",
       "Sabb15.Raji.cs                 1\n",
       "Sabb15.Raji.fdr                1\n",
       "Sabb17.EOL                     1\n",
       "Sabb17.HEL                     1\n",
       "Sabb17.MOLM13                  1\n",
       "Sabb17.MonoMac1                1\n",
       "Sabb17.NB4.rep1                1\n",
       "Sabb17.NB4.rep2                1\n",
       "Sabb17.OCI.AML2                1\n",
       "Sabb17.OCI.AML3                1\n",
       "Sabb17.OCI.AML5                1\n",
       "Sabb17.P31.FUJ                 1\n",
       "Sabb17.PL21                    1\n",
       "Sabb17.SKM1                    1\n",
       "Sabb17.TF1                     1\n",
       "Sabb17.THP1                    1\n",
       "Weis16.csa.MW.pvalue           1\n",
       "Weis16.csa.avg                 1\n",
       "Weis16.csi.MW.pvalue           1\n",
       "Weis16.csi.avg                 1\n",
       "dtype: int64"
      ]
     },
     "execution_count": 10,
     "metadata": {},
     "output_type": "execute_result"
    }
   ],
   "source": [
    "metadata.sum(axis = 1)"
   ]
  },
  {
   "cell_type": "code",
   "execution_count": 11,
   "metadata": {},
   "outputs": [
    {
     "data": {
      "text/plain": [
       "AML                   14\n",
       "Burkitt's Lymphoma     4\n",
       "CML                   11\n",
       "breast                 3\n",
       "pancreatic             7\n",
       "colon                  2\n",
       "melanoma               2\n",
       "pan cancer             3\n",
       "dtype: int64"
      ]
     },
     "execution_count": 11,
     "metadata": {},
     "output_type": "execute_result"
    }
   ],
   "source": [
    "metadata.sum(axis = 0)"
   ]
  },
  {
   "cell_type": "code",
   "execution_count": null,
   "metadata": {},
   "outputs": [],
   "source": []
  }
 ],
 "metadata": {
  "kernelspec": {
   "display_name": "Python 3",
   "language": "python",
   "name": "python3"
  },
  "language_info": {
   "codemirror_mode": {
    "name": "ipython",
    "version": 3
   },
   "file_extension": ".py",
   "mimetype": "text/x-python",
   "name": "python",
   "nbconvert_exporter": "python",
   "pygments_lexer": "ipython3",
   "version": "3.7.4"
  }
 },
 "nbformat": 4,
 "nbformat_minor": 2
}
