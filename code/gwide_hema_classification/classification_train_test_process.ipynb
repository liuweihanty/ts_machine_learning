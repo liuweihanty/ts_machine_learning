{
 "cells": [
  {
   "cell_type": "markdown",
   "metadata": {},
   "source": [
    "# Classification Train-test data processing"
   ]
  },
  {
   "cell_type": "code",
   "execution_count": 1,
   "metadata": {},
   "outputs": [],
   "source": [
    "# Author: Shirley Zhou"
   ]
  },
  {
   "cell_type": "code",
   "execution_count": 2,
   "metadata": {},
   "outputs": [],
   "source": [
    "import numpy as np\n",
    "import pandas as pd\n",
    "import matplotlib.pyplot as plt\n",
    "import seaborn as sns"
   ]
  },
  {
   "cell_type": "markdown",
   "metadata": {},
   "source": [
    "## Exclude non-coding gene from dataset"
   ]
  },
  {
   "cell_type": "markdown",
   "metadata": {},
   "source": [
    "__Since `biomaRt` does not function well, the lists of protein-coding gene in train and test set are obtained from Weihan"
   ]
  },
  {
   "cell_type": "code",
   "execution_count": 3,
   "metadata": {},
   "outputs": [
    {
     "name": "stderr",
     "output_type": "stream",
     "text": [
      "/Users/s.n.zhou/opt/anaconda3/lib/python3.7/site-packages/IPython/core/interactiveshell.py:3058: DtypeWarning: Columns (15) have mixed types. Specify dtype option on import or set low_memory=False.\n",
      "  interactivity=interactivity, compiler=compiler, result=result)\n"
     ]
    }
   ],
   "source": [
    "gwide = (pd.read_csv('../../data/gwide_hema_classification/Genomewide_coding.csv')\n",
    "         .drop([\"Unnamed: 0\", \"GeneID\", \"Aliases\", \"X\", \"X.1\"], axis = 1))"
   ]
  },
  {
   "cell_type": "code",
   "execution_count": 4,
   "metadata": {},
   "outputs": [
    {
     "data": {
      "text/html": [
       "<div>\n",
       "<style scoped>\n",
       "    .dataframe tbody tr th:only-of-type {\n",
       "        vertical-align: middle;\n",
       "    }\n",
       "\n",
       "    .dataframe tbody tr th {\n",
       "        vertical-align: top;\n",
       "    }\n",
       "\n",
       "    .dataframe thead th {\n",
       "        text-align: right;\n",
       "    }\n",
       "</style>\n",
       "<table border=\"1\" class=\"dataframe\">\n",
       "  <thead>\n",
       "    <tr style=\"text-align: right;\">\n",
       "      <th></th>\n",
       "      <th>Gene</th>\n",
       "      <th>chromosome</th>\n",
       "      <th>HSC.logCPM</th>\n",
       "      <th>Brummelkamp.hap1.GTS.ratio</th>\n",
       "      <th>Brummelkamp.hap1.GTS.threshold</th>\n",
       "      <th>Brummelkamp.kbm7.GTS.ratio</th>\n",
       "      <th>Brummelkamp.kbm7.GTS.threshold</th>\n",
       "      <th>Chen2019.pos.score</th>\n",
       "      <th>Chen2019.pos.p.value</th>\n",
       "      <th>Chen2019.pos.p.value.threshold</th>\n",
       "      <th>...</th>\n",
       "      <th>Sabbatini2017.TF.1.threshold</th>\n",
       "      <th>Sabbatini2017.THP.1</th>\n",
       "      <th>Sabbatini2017.THP.1.threshold</th>\n",
       "      <th>Wallace2016.DEseq2.Log2.Fold.Change</th>\n",
       "      <th>Wallace2016.DEseq2.P.Value</th>\n",
       "      <th>Wallace2016.threshold</th>\n",
       "      <th>Rep1_2.Mann.Whitney.p.value</th>\n",
       "      <th>average.phenotype.of.strongest.3.2</th>\n",
       "      <th>Rep1_2.Mann.Whitney.p.value.1</th>\n",
       "      <th>average.phenotype.of.strongest.3.2.1</th>\n",
       "    </tr>\n",
       "  </thead>\n",
       "  <tbody>\n",
       "    <tr>\n",
       "      <td>0</td>\n",
       "      <td>IGDCC3</td>\n",
       "      <td>15</td>\n",
       "      <td>NaN</td>\n",
       "      <td>0.503403</td>\n",
       "      <td>0</td>\n",
       "      <td>0.534752</td>\n",
       "      <td>0</td>\n",
       "      <td>0.89178</td>\n",
       "      <td>0.89137</td>\n",
       "      <td>0</td>\n",
       "      <td>...</td>\n",
       "      <td>0</td>\n",
       "      <td>-0.130</td>\n",
       "      <td>0</td>\n",
       "      <td>NaN</td>\n",
       "      <td>NaN</td>\n",
       "      <td>0</td>\n",
       "      <td>2.320000e-07</td>\n",
       "      <td>-0.211542</td>\n",
       "      <td>0.692807</td>\n",
       "      <td>0.004401</td>\n",
       "    </tr>\n",
       "    <tr>\n",
       "      <td>1</td>\n",
       "      <td>HSF2BP</td>\n",
       "      <td>21</td>\n",
       "      <td>NaN</td>\n",
       "      <td>0.514247</td>\n",
       "      <td>0</td>\n",
       "      <td>0.521775</td>\n",
       "      <td>0</td>\n",
       "      <td>0.62112</td>\n",
       "      <td>0.62094</td>\n",
       "      <td>0</td>\n",
       "      <td>...</td>\n",
       "      <td>0</td>\n",
       "      <td>-0.221</td>\n",
       "      <td>0</td>\n",
       "      <td>NaN</td>\n",
       "      <td>NaN</td>\n",
       "      <td>0</td>\n",
       "      <td>4.682615e-02</td>\n",
       "      <td>-0.006646</td>\n",
       "      <td>0.789091</td>\n",
       "      <td>-0.007323</td>\n",
       "    </tr>\n",
       "    <tr>\n",
       "      <td>2</td>\n",
       "      <td>ADGRA2</td>\n",
       "      <td>8</td>\n",
       "      <td>NaN</td>\n",
       "      <td>NaN</td>\n",
       "      <td>0</td>\n",
       "      <td>NaN</td>\n",
       "      <td>0</td>\n",
       "      <td>0.18968</td>\n",
       "      <td>0.26085</td>\n",
       "      <td>0</td>\n",
       "      <td>...</td>\n",
       "      <td>0</td>\n",
       "      <td>NaN</td>\n",
       "      <td>0</td>\n",
       "      <td>NaN</td>\n",
       "      <td>NaN</td>\n",
       "      <td>0</td>\n",
       "      <td>NaN</td>\n",
       "      <td>NaN</td>\n",
       "      <td>NaN</td>\n",
       "      <td>NaN</td>\n",
       "    </tr>\n",
       "    <tr>\n",
       "      <td>3</td>\n",
       "      <td>TKFC</td>\n",
       "      <td>11</td>\n",
       "      <td>NaN</td>\n",
       "      <td>NaN</td>\n",
       "      <td>0</td>\n",
       "      <td>NaN</td>\n",
       "      <td>0</td>\n",
       "      <td>0.94001</td>\n",
       "      <td>0.93984</td>\n",
       "      <td>0</td>\n",
       "      <td>...</td>\n",
       "      <td>0</td>\n",
       "      <td>NaN</td>\n",
       "      <td>0</td>\n",
       "      <td>NaN</td>\n",
       "      <td>NaN</td>\n",
       "      <td>0</td>\n",
       "      <td>NaN</td>\n",
       "      <td>NaN</td>\n",
       "      <td>NaN</td>\n",
       "      <td>NaN</td>\n",
       "    </tr>\n",
       "    <tr>\n",
       "      <td>4</td>\n",
       "      <td>ERMARD</td>\n",
       "      <td>6</td>\n",
       "      <td>NaN</td>\n",
       "      <td>NaN</td>\n",
       "      <td>0</td>\n",
       "      <td>NaN</td>\n",
       "      <td>0</td>\n",
       "      <td>0.28938</td>\n",
       "      <td>0.32906</td>\n",
       "      <td>0</td>\n",
       "      <td>...</td>\n",
       "      <td>0</td>\n",
       "      <td>-0.070</td>\n",
       "      <td>0</td>\n",
       "      <td>NaN</td>\n",
       "      <td>NaN</td>\n",
       "      <td>0</td>\n",
       "      <td>4.053098e-01</td>\n",
       "      <td>0.010147</td>\n",
       "      <td>0.462927</td>\n",
       "      <td>-0.012278</td>\n",
       "    </tr>\n",
       "  </tbody>\n",
       "</table>\n",
       "<p>5 rows × 80 columns</p>\n",
       "</div>"
      ],
      "text/plain": [
       "     Gene chromosome  HSC.logCPM  Brummelkamp.hap1.GTS.ratio  \\\n",
       "0  IGDCC3         15         NaN                    0.503403   \n",
       "1  HSF2BP         21         NaN                    0.514247   \n",
       "2  ADGRA2          8         NaN                         NaN   \n",
       "3    TKFC         11         NaN                         NaN   \n",
       "4  ERMARD          6         NaN                         NaN   \n",
       "\n",
       "   Brummelkamp.hap1.GTS.threshold  Brummelkamp.kbm7.GTS.ratio  \\\n",
       "0                               0                    0.534752   \n",
       "1                               0                    0.521775   \n",
       "2                               0                         NaN   \n",
       "3                               0                         NaN   \n",
       "4                               0                         NaN   \n",
       "\n",
       "   Brummelkamp.kbm7.GTS.threshold  Chen2019.pos.score  Chen2019.pos.p.value  \\\n",
       "0                               0             0.89178               0.89137   \n",
       "1                               0             0.62112               0.62094   \n",
       "2                               0             0.18968               0.26085   \n",
       "3                               0             0.94001               0.93984   \n",
       "4                               0             0.28938               0.32906   \n",
       "\n",
       "   Chen2019.pos.p.value.threshold  ...  Sabbatini2017.TF.1.threshold  \\\n",
       "0                               0  ...                             0   \n",
       "1                               0  ...                             0   \n",
       "2                               0  ...                             0   \n",
       "3                               0  ...                             0   \n",
       "4                               0  ...                             0   \n",
       "\n",
       "   Sabbatini2017.THP.1 Sabbatini2017.THP.1.threshold  \\\n",
       "0               -0.130                             0   \n",
       "1               -0.221                             0   \n",
       "2                  NaN                             0   \n",
       "3                  NaN                             0   \n",
       "4               -0.070                             0   \n",
       "\n",
       "   Wallace2016.DEseq2.Log2.Fold.Change  Wallace2016.DEseq2.P.Value  \\\n",
       "0                                  NaN                         NaN   \n",
       "1                                  NaN                         NaN   \n",
       "2                                  NaN                         NaN   \n",
       "3                                  NaN                         NaN   \n",
       "4                                  NaN                         NaN   \n",
       "\n",
       "   Wallace2016.threshold  Rep1_2.Mann.Whitney.p.value  \\\n",
       "0                      0                 2.320000e-07   \n",
       "1                      0                 4.682615e-02   \n",
       "2                      0                          NaN   \n",
       "3                      0                          NaN   \n",
       "4                      0                 4.053098e-01   \n",
       "\n",
       "   average.phenotype.of.strongest.3.2  Rep1_2.Mann.Whitney.p.value.1  \\\n",
       "0                           -0.211542                       0.692807   \n",
       "1                           -0.006646                       0.789091   \n",
       "2                                 NaN                            NaN   \n",
       "3                                 NaN                            NaN   \n",
       "4                            0.010147                       0.462927   \n",
       "\n",
       "   average.phenotype.of.strongest.3.2.1  \n",
       "0                              0.004401  \n",
       "1                             -0.007323  \n",
       "2                                   NaN  \n",
       "3                                   NaN  \n",
       "4                             -0.012278  \n",
       "\n",
       "[5 rows x 80 columns]"
      ]
     },
     "execution_count": 4,
     "metadata": {},
     "output_type": "execute_result"
    }
   ],
   "source": [
    "gwide.head()"
   ]
  },
  {
   "cell_type": "markdown",
   "metadata": {},
   "source": [
    "## Deletion of column data¶"
   ]
  },
  {
   "cell_type": "markdown",
   "metadata": {},
   "source": [
    "The column `Weissman2014.CRISPRi.Growth.phenotype..mean.of.top.3.gammas.` will be deleted because most of the hits in this CRISPRi screen are underpowered."
   ]
  },
  {
   "cell_type": "code",
   "execution_count": 5,
   "metadata": {},
   "outputs": [],
   "source": [
    "gwide = gwide.drop(['Weissman2014.CRISPRi.Growth.phenotype..mean.of.top.3.gammas.',\n",
    "              'Weissman2014.CRISPRa.Growth.phenotype..mean.of.top.3.gammas.'], axis=1)"
   ]
  },
  {
   "cell_type": "code",
   "execution_count": 6,
   "metadata": {},
   "outputs": [
    {
     "data": {
      "text/plain": [
       "['Gene',\n",
       " 'chromosome',\n",
       " 'HSC.logCPM',\n",
       " 'Brummelkamp.hap1.GTS.ratio',\n",
       " 'Brummelkamp.hap1.GTS.threshold',\n",
       " 'Brummelkamp.kbm7.GTS.ratio',\n",
       " 'Brummelkamp.kbm7.GTS.threshold',\n",
       " 'Chen2019.pos.score',\n",
       " 'Chen2019.pos.p.value',\n",
       " 'Chen2019.pos.p.value.threshold',\n",
       " 'Chen2019.pos.fdr',\n",
       " 'Chen2019.pos.rank',\n",
       " 'Weissman2014.CRISPRa.Growth.phenotype.threshold',\n",
       " 'Doench2018.Average.LFC',\n",
       " 'Doench2018.Average.nlog.p.values.',\n",
       " 'Doench2018.Average.nlog.p.values.threshold',\n",
       " 'Elledge2013.TUSON_p_value_TSG',\n",
       " 'Elledge2013.TUSON_p_value_TSG.threshold',\n",
       " 'Elledge2013.TUSON_q_value_TSG',\n",
       " 'Elledge2013.TSG_Probability_LASSO',\n",
       " 'Elledge2019.HMEC.Average.Log2FC.Drop',\n",
       " 'Elledge2019.HMEC.Combined.pvalue.drop',\n",
       " 'Elledge2019.HMEC.FDR.drop',\n",
       " 'Elledge2019.HMEC.Average.threshold',\n",
       " 'Elledge2019.HPNE.Average.Log2.Drop',\n",
       " 'Elledge2019.HPNE.Combined.pvalue.drop',\n",
       " 'Elledge2019.HPNE.FDR.drop',\n",
       " 'Elledge2019.HPNE.Average.threshold',\n",
       " 'Sabbatini2015.KBM7.CS',\n",
       " 'Sabbatini2015.KBM7.adjusted.p.value',\n",
       " 'Sabbatini2015.KBM7.threshold',\n",
       " 'Sabbatini2015.K562.CS',\n",
       " 'Sabbatini2015.K562.adjusted.p.value',\n",
       " 'Sabbatini2015.K562.threshold',\n",
       " 'Sabbatini2015.Jiyoye.CS',\n",
       " 'Sabbatini2015.Jiyoye.adjusted.p.value',\n",
       " 'Sabbatini2015.Jiyoye.threshold',\n",
       " 'Sabbatini2015.Raji.CS',\n",
       " 'Sabbatini2015.Raji.adjusted.p.value',\n",
       " 'Sabbatini2015.Raji.threshold',\n",
       " 'Sabbatini2015.GTS',\n",
       " 'Sabbatini2017.EOL.1',\n",
       " 'Sabbatini2017.EOL.1.threshold',\n",
       " 'Sabbatini2017.HEL',\n",
       " 'Sabbatini2017.HEL.threshold',\n",
       " 'Sabbatini2017.MOLM.13',\n",
       " 'Sabbatini2017.MOLM.13.threshold',\n",
       " 'Sabbatini2017.MonoMac1',\n",
       " 'Sabbatini2017.MonoMac1.threshold',\n",
       " 'Sabbatini2017.MV411.threshold',\n",
       " 'Sabbatini2017.MV412',\n",
       " 'Sabbatini2017.NB4.rep1',\n",
       " 'Sabbatini2017.NB4.rep1.threshold',\n",
       " 'Sabbatini2017.NB4.rep2',\n",
       " 'Sabbatini2017.NB4.rep2.threshold',\n",
       " 'Sabbatini2017.OCI.AML2',\n",
       " 'Sabbatini2017.OCI.AML2.threshold',\n",
       " 'Sabbatini2017.OCI.AML3',\n",
       " 'Sabbatini2017.OCI.AML3.threshold',\n",
       " 'Sabbatini2017.OCI.AML5',\n",
       " 'Sabbatini2017.OCI.AML5.threshold',\n",
       " 'Sabbatini2017.P31.FUJ',\n",
       " 'Sabbatini2017.P31.FUJ.threshold',\n",
       " 'Sabbatini2017.PL.21',\n",
       " 'Sabbatini2017.PL.21.threshold',\n",
       " 'Sabbatini2017.SKM.1',\n",
       " 'Sabbatini2017.SKM.threshold',\n",
       " 'Sabbatini2017.TF.1',\n",
       " 'Sabbatini2017.TF.1.threshold',\n",
       " 'Sabbatini2017.THP.1',\n",
       " 'Sabbatini2017.THP.1.threshold',\n",
       " 'Wallace2016.DEseq2.Log2.Fold.Change',\n",
       " 'Wallace2016.DEseq2.P.Value',\n",
       " 'Wallace2016.threshold',\n",
       " 'Rep1_2.Mann.Whitney.p.value',\n",
       " 'average.phenotype.of.strongest.3.2',\n",
       " 'Rep1_2.Mann.Whitney.p.value.1',\n",
       " 'average.phenotype.of.strongest.3.2.1']"
      ]
     },
     "execution_count": 6,
     "metadata": {},
     "output_type": "execute_result"
    }
   ],
   "source": [
    "gwide.columns.tolist()"
   ]
  },
  {
   "cell_type": "markdown",
   "metadata": {},
   "source": [
    "## Cleaning of gwide data set"
   ]
  },
  {
   "cell_type": "code",
   "execution_count": 8,
   "metadata": {},
   "outputs": [],
   "source": [
    "def percent_nan(list):\n",
    "    return (sum(np.isnan(list))/len(list))\n",
    "\n",
    "def percent_zero(list):\n",
    "    return ((len(list) - np.count_nonzero(list))/len(list))"
   ]
  },
  {
   "cell_type": "markdown",
   "metadata": {},
   "source": [
    "### Check NaN columns"
   ]
  },
  {
   "cell_type": "code",
   "execution_count": 9,
   "metadata": {},
   "outputs": [
    {
     "data": {
      "text/plain": [
       "Wallace2016.DEseq2.P.Value               0.950480\n",
       "Wallace2016.DEseq2.Log2.Fold.Change      0.950480\n",
       "Sabbatini2015.GTS                        0.765200\n",
       "HSC.logCPM                               0.532756\n",
       "Elledge2019.HPNE.FDR.drop                0.294387\n",
       "Elledge2019.HPNE.Combined.pvalue.drop    0.294387\n",
       "Elledge2019.HPNE.Average.Log2.Drop       0.294387\n",
       "Elledge2019.HMEC.Average.Log2FC.Drop     0.292933\n",
       "Elledge2019.HMEC.FDR.drop                0.292933\n",
       "Elledge2019.HMEC.Combined.pvalue.drop    0.292933\n",
       "Brummelkamp.kbm7.GTS.ratio               0.221694\n",
       "Brummelkamp.hap1.GTS.ratio               0.174861\n",
       "Sabbatini2015.Jiyoye.CS                  0.101727\n",
       "Sabbatini2015.Raji.CS                    0.101727\n",
       "Sabbatini2015.Raji.adjusted.p.value      0.101727\n",
       "Sabbatini2015.K562.adjusted.p.value      0.101727\n",
       "Sabbatini2015.K562.CS                    0.101727\n",
       "Sabbatini2015.Jiyoye.adjusted.p.value    0.101727\n",
       "Sabbatini2015.KBM7.adjusted.p.value      0.101727\n",
       "Sabbatini2015.KBM7.CS                    0.101727\n",
       "average.phenotype.of.strongest.3.2       0.096462\n",
       "Rep1_2.Mann.Whitney.p.value              0.096462\n",
       "Elledge2013.TUSON_p_value_TSG            0.083267\n",
       "Elledge2013.TUSON_q_value_TSG            0.083267\n",
       "Elledge2013.TSG_Probability_LASSO        0.083267\n",
       "Sabbatini2017.EOL.1                      0.078465\n",
       "Sabbatini2017.MOLM.13                    0.078465\n",
       "Sabbatini2017.HEL                        0.078465\n",
       "Sabbatini2017.MonoMac1                   0.078465\n",
       "Sabbatini2017.TF.1                       0.078465\n",
       "dtype: float64"
      ]
     },
     "execution_count": 9,
     "metadata": {},
     "output_type": "execute_result"
    }
   ],
   "source": [
    "nan_check = gwide.drop(['Gene', 'chromosome'], \n",
    "                     axis=1).apply(percent_nan)\n",
    "nan_check.sort_values(ascending = False).head(30)"
   ]
  },
  {
   "cell_type": "code",
   "execution_count": 10,
   "metadata": {},
   "outputs": [],
   "source": [
    "gwide_cleaned_nan = gwide.drop(nan_check[nan_check > 0.75].index.tolist(), axis=1)"
   ]
  },
  {
   "cell_type": "markdown",
   "metadata": {},
   "source": [
    "### Check Zero Variance Column"
   ]
  },
  {
   "cell_type": "code",
   "execution_count": 12,
   "metadata": {},
   "outputs": [],
   "source": [
    "col_var = gwide_cleaned_nan.drop(['Gene', 'chromosome'], \n",
    "                              axis=1).apply(np.var)\n",
    "gwide_cleaned_var = gwide_cleaned_nan.drop(col_var[col_var == 0].index.tolist(), axis=1)"
   ]
  },
  {
   "cell_type": "markdown",
   "metadata": {},
   "source": [
    "### Check Zero Value Column"
   ]
  },
  {
   "cell_type": "code",
   "execution_count": 14,
   "metadata": {},
   "outputs": [
    {
     "data": {
      "text/plain": [
       "Sabbatini2017.NB4.rep2.threshold                   0.999978\n",
       "Sabbatini2017.HEL.threshold                        0.999978\n",
       "Sabbatini2017.OCI.AML2.threshold                   0.999956\n",
       "Sabbatini2017.TF.1.threshold                       0.999890\n",
       "Sabbatini2017.MonoMac1.threshold                   0.999868\n",
       "Sabbatini2017.PL.21.threshold                      0.999846\n",
       "Sabbatini2017.THP.1.threshold                      0.999802\n",
       "Sabbatini2017.MV412                                0.999802\n",
       "Sabbatini2017.OCI.AML5.threshold                   0.999802\n",
       "Sabbatini2017.EOL.1.threshold                      0.999537\n",
       "Sabbatini2017.OCI.AML3.threshold                   0.999141\n",
       "Sabbatini2017.SKM.threshold                        0.999097\n",
       "Sabbatini2017.MOLM.13.threshold                    0.999097\n",
       "Sabbatini2015.Jiyoye.threshold                     0.998039\n",
       "Sabbatini2015.KBM7.threshold                       0.997423\n",
       "Sabbatini2015.Raji.threshold                       0.993656\n",
       "Weissman2014.CRISPRa.Growth.phenotype.threshold    0.988766\n",
       "Elledge2019.HPNE.Average.threshold                 0.983280\n",
       "Wallace2016.threshold                              0.982906\n",
       "Sabbatini2017.P31.FUJ.threshold                    0.978765\n",
       "Elledge2019.HMEC.Average.threshold                 0.976606\n",
       "Sabbatini2015.K562.threshold                       0.968477\n",
       "Elledge2013.TUSON_p_value_TSG.threshold            0.964821\n",
       "Doench2018.Average.nlog.p.values.threshold         0.943651\n",
       "Chen2019.pos.p.value.threshold                     0.932241\n",
       "Brummelkamp.hap1.GTS.threshold                     0.903053\n",
       "Brummelkamp.kbm7.GTS.threshold                     0.864349\n",
       "Brummelkamp.hap1.GTS.ratio                         0.084897\n",
       "Brummelkamp.kbm7.GTS.ratio                         0.012094\n",
       "Sabbatini2017.MonoMac1                             0.006168\n",
       "dtype: float64"
      ]
     },
     "execution_count": 14,
     "metadata": {},
     "output_type": "execute_result"
    }
   ],
   "source": [
    "zeros_check = gwide_cleaned_var.drop(['Gene', 'chromosome'], \n",
    "                              axis=1).apply(percent_zero)\n",
    "zeros_check.sort_values(ascending = False).head(30)"
   ]
  },
  {
   "cell_type": "code",
   "execution_count": 15,
   "metadata": {},
   "outputs": [
    {
     "data": {
      "text/plain": [
       "['Gene',\n",
       " 'chromosome',\n",
       " 'HSC.logCPM',\n",
       " 'Brummelkamp.hap1.GTS.ratio',\n",
       " 'Brummelkamp.kbm7.GTS.ratio',\n",
       " 'Chen2019.pos.score',\n",
       " 'Chen2019.pos.p.value',\n",
       " 'Chen2019.pos.fdr',\n",
       " 'Chen2019.pos.rank',\n",
       " 'Doench2018.Average.LFC',\n",
       " 'Doench2018.Average.nlog.p.values.',\n",
       " 'Elledge2013.TUSON_p_value_TSG',\n",
       " 'Elledge2013.TUSON_q_value_TSG',\n",
       " 'Elledge2013.TSG_Probability_LASSO',\n",
       " 'Elledge2019.HMEC.Average.Log2FC.Drop',\n",
       " 'Elledge2019.HMEC.Combined.pvalue.drop',\n",
       " 'Elledge2019.HMEC.FDR.drop',\n",
       " 'Elledge2019.HPNE.Average.Log2.Drop',\n",
       " 'Elledge2019.HPNE.Combined.pvalue.drop',\n",
       " 'Elledge2019.HPNE.FDR.drop',\n",
       " 'Sabbatini2015.KBM7.CS',\n",
       " 'Sabbatini2015.KBM7.adjusted.p.value',\n",
       " 'Sabbatini2015.K562.CS',\n",
       " 'Sabbatini2015.K562.adjusted.p.value',\n",
       " 'Sabbatini2015.Jiyoye.CS',\n",
       " 'Sabbatini2015.Jiyoye.adjusted.p.value',\n",
       " 'Sabbatini2015.Raji.CS',\n",
       " 'Sabbatini2015.Raji.adjusted.p.value',\n",
       " 'Sabbatini2017.EOL.1',\n",
       " 'Sabbatini2017.HEL',\n",
       " 'Sabbatini2017.MOLM.13',\n",
       " 'Sabbatini2017.MonoMac1',\n",
       " 'Sabbatini2017.MV411.threshold',\n",
       " 'Sabbatini2017.NB4.rep1',\n",
       " 'Sabbatini2017.NB4.rep2',\n",
       " 'Sabbatini2017.OCI.AML2',\n",
       " 'Sabbatini2017.OCI.AML3',\n",
       " 'Sabbatini2017.OCI.AML5',\n",
       " 'Sabbatini2017.P31.FUJ',\n",
       " 'Sabbatini2017.PL.21',\n",
       " 'Sabbatini2017.SKM.1',\n",
       " 'Sabbatini2017.TF.1',\n",
       " 'Sabbatini2017.THP.1',\n",
       " 'Rep1_2.Mann.Whitney.p.value',\n",
       " 'average.phenotype.of.strongest.3.2',\n",
       " 'Rep1_2.Mann.Whitney.p.value.1',\n",
       " 'average.phenotype.of.strongest.3.2.1']"
      ]
     },
     "execution_count": 15,
     "metadata": {},
     "output_type": "execute_result"
    }
   ],
   "source": [
    "gwide_cleaned_zero = gwide_cleaned_var.drop(zeros_check[zeros_check > 0.6].index.tolist(), axis=1)\n",
    "gwide_cleaned_zero.columns.tolist()"
   ]
  },
  {
   "cell_type": "code",
   "execution_count": null,
   "metadata": {},
   "outputs": [],
   "source": []
  }
 ],
 "metadata": {
  "kernelspec": {
   "display_name": "Python 3",
   "language": "python",
   "name": "python3"
  },
  "language_info": {
   "codemirror_mode": {
    "name": "ipython",
    "version": 3
   },
   "file_extension": ".py",
   "mimetype": "text/x-python",
   "name": "python",
   "nbconvert_exporter": "python",
   "pygments_lexer": "ipython3",
   "version": "3.7.4"
  }
 },
 "nbformat": 4,
 "nbformat_minor": 2
}
