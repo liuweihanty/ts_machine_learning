{
 "cells": [
  {
   "cell_type": "code",
   "execution_count": 5,
   "metadata": {},
   "outputs": [],
   "source": [
    "import scipy\n",
    "import numpy as np\n",
    "import pandas as pd"
   ]
  },
  {
   "cell_type": "code",
   "execution_count": 25,
   "metadata": {},
   "outputs": [],
   "source": [
    "test = pd.read_csv(\"/Users/weihan/Desktop/test_manu.csv\")"
   ]
  },
  {
   "cell_type": "code",
   "execution_count": 26,
   "metadata": {},
   "outputs": [
    {
     "name": "stdout",
     "output_type": "stream",
     "text": [
      "   0.129130562  6.738000988  8.411800533  7.762745509\n",
      "0     0.129131     6.695518     8.277795     7.618228\n",
      "1     0.129131     6.613931     8.900718     8.226688\n",
      "2     0.129131     6.149414     8.705446     8.010975\n",
      "3     0.129131     6.121469     8.050601     7.356031\n",
      "4     0.129131     6.061696     8.182688     7.471688\n"
     ]
    }
   ],
   "source": [
    "print(test.head())"
   ]
  },
  {
   "cell_type": "code",
   "execution_count": 14,
   "metadata": {},
   "outputs": [
    {
     "data": {
      "text/plain": [
       "0.129130562    0.129131\n",
       "6.738000988    6.695518\n",
       "8.411800533    8.277795\n",
       "7.762745509    7.618228\n",
       "Name: 0, dtype: float64"
      ]
     },
     "execution_count": 14,
     "metadata": {},
     "output_type": "execute_result"
    }
   ],
   "source": [
    "test.iloc[0]"
   ]
  },
  {
   "cell_type": "code",
   "execution_count": 18,
   "metadata": {},
   "outputs": [
    {
     "ename": "AttributeError",
     "evalue": "'numpy.ndarray' object has no attribute 'rename_axis'",
     "output_type": "error",
     "traceback": [
      "\u001b[0;31m---------------------------------------------------------------------------\u001b[0m",
      "\u001b[0;31mAttributeError\u001b[0m                            Traceback (most recent call last)",
      "\u001b[0;32m<ipython-input-18-81aabd8f683c>\u001b[0m in \u001b[0;36m<module>\u001b[0;34m()\u001b[0m\n\u001b[0;32m----> 1\u001b[0;31m \u001b[0mtest\u001b[0m \u001b[0;34m=\u001b[0m \u001b[0mtest\u001b[0m\u001b[0;34m.\u001b[0m\u001b[0mrename_axis\u001b[0m\u001b[0;34m(\u001b[0m\u001b[0;34m'ID'\u001b[0m\u001b[0;34m)\u001b[0m\u001b[0;34m.\u001b[0m\u001b[0mvalues\u001b[0m\u001b[0;34m\u001b[0m\u001b[0;34m\u001b[0m\u001b[0m\n\u001b[0m\u001b[1;32m      2\u001b[0m \u001b[0;34m\u001b[0m\u001b[0m\n\u001b[1;32m      3\u001b[0m \u001b[0mtest\u001b[0m\u001b[0;34m[\u001b[0m\u001b[0;36m0\u001b[0m\u001b[0;34m]\u001b[0m\u001b[0;34m\u001b[0m\u001b[0;34m\u001b[0m\u001b[0m\n",
      "\u001b[0;31mAttributeError\u001b[0m: 'numpy.ndarray' object has no attribute 'rename_axis'"
     ]
    }
   ],
   "source": [
    "scipy.stats.wilcoxon(test.iloc[:,1], y=None, zero_method='wilcox', correction=False)[source]"
   ]
  },
  {
   "cell_type": "code",
   "execution_count": 27,
   "metadata": {},
   "outputs": [
    {
     "data": {
      "text/plain": [
       "0       6.695518\n",
       "1       6.613931\n",
       "2       6.149414\n",
       "3       6.121469\n",
       "4       6.061696\n",
       "5       5.925685\n",
       "6       5.947643\n",
       "7       5.926013\n",
       "8       5.895725\n",
       "9       5.884183\n",
       "10      5.837559\n",
       "11      5.812875\n",
       "12      5.786918\n",
       "13      5.786918\n",
       "14      5.775905\n",
       "15      5.741396\n",
       "16      5.754816\n",
       "17      5.726209\n",
       "18      5.719040\n",
       "19      5.701359\n",
       "20      5.636801\n",
       "21      5.624959\n",
       "22      5.622717\n",
       "23      5.612920\n",
       "24      5.614940\n",
       "25      5.599646\n",
       "26      6.615445\n",
       "27      5.580326\n",
       "28      5.564812\n",
       "29      5.528495\n",
       "          ...   \n",
       "6173    7.595156\n",
       "6174    7.438642\n",
       "6175    7.971727\n",
       "6176    8.112097\n",
       "6177    7.780919\n",
       "6178    7.618400\n",
       "6179    7.528637\n",
       "6180    8.347260\n",
       "6181    8.100435\n",
       "6182    7.795069\n",
       "6183    7.668398\n",
       "6184    7.995051\n",
       "6185    8.118212\n",
       "6186    7.789224\n",
       "6187    7.819375\n",
       "6188    7.753361\n",
       "6189    7.759708\n",
       "6190    8.095448\n",
       "6191    7.671086\n",
       "6192    7.688804\n",
       "6193    9.007642\n",
       "6194    8.234417\n",
       "6195    7.832960\n",
       "6196    8.068108\n",
       "6197    7.894314\n",
       "6198    8.129067\n",
       "6199    8.057885\n",
       "6200    8.262244\n",
       "6201    8.377774\n",
       "6202    8.589773\n",
       "Name: 6.738000988, Length: 6203, dtype: float64"
      ]
     },
     "execution_count": 27,
     "metadata": {},
     "output_type": "execute_result"
    }
   ],
   "source": [
    "test.iloc[:,1]"
   ]
  },
  {
   "cell_type": "code",
   "execution_count": null,
   "metadata": {},
   "outputs": [],
   "source": []
  }
 ],
 "metadata": {
  "kernelspec": {
   "display_name": "Python 3",
   "language": "python",
   "name": "python3"
  },
  "language_info": {
   "codemirror_mode": {
    "name": "ipython",
    "version": 3
   },
   "file_extension": ".py",
   "mimetype": "text/x-python",
   "name": "python",
   "nbconvert_exporter": "python",
   "pygments_lexer": "ipython3",
   "version": "3.6.8"
  }
 },
 "nbformat": 4,
 "nbformat_minor": 2
}
