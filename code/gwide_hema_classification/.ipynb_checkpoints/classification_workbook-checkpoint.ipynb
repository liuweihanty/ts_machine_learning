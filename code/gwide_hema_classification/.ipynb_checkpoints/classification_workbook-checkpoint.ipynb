{
 "cells": [
  {
   "cell_type": "code",
   "execution_count": 209,
   "metadata": {},
   "outputs": [],
   "source": [
    "import numpy as np\n",
    "import pandas as pd\n",
    "import matplotlib.pyplot as plt\n",
    "import seaborn as sns\n",
    "\n",
    "from sklearn.linear_model import LogisticRegression\n",
    "from sklearn.metrics import mean_squared_error\n",
    "from sklearn.metrics import mean_absolute_error\n",
    "from sklearn import tree\n",
    "from sklearn import ensemble"
   ]
  },
  {
   "cell_type": "markdown",
   "metadata": {},
   "source": [
    "## Reusable Data Selection Pipeline"
   ]
  },
  {
   "cell_type": "code",
   "execution_count": 1,
   "metadata": {},
   "outputs": [],
   "source": [
    "def process_data_gm(data, columns):\n",
    "    \"\"\"Process the data for a guided model.\"\"\"\n",
    "    \n",
    "    # Select only columns passed as arguments\n",
    "    data = data.loc[:, columns]\n",
    "    \n",
    "    # Return predictors and response variables separately\n",
    "    X = data.drop(['Gene', 'TSGene'], axis = 1)\n",
    "    y = data.loc[:, 'TSGene']\n",
    "    \n",
    "    return X, y"
   ]
  },
  {
   "cell_type": "code",
   "execution_count": 9,
   "metadata": {},
   "outputs": [],
   "source": [
    "all_col = (\n",
    "    ['Gene',\n",
    "     'Brum.HAP1.GTS',\n",
    "     'Brum.KBM7.GTS',\n",
    "     'Weis14.csa.avg',\n",
    "     'Sabb15.KBM7.cs',\n",
    "     'Sabb15.KBM7.fdr',\n",
    "     'Sabb15.K562.cs',\n",
    "     'Sabb15.K562.fdr',\n",
    "     'Sabb17.EOL',\n",
    "     'Sabb17.HEL',\n",
    "     'Sabb17.MOLM13',\n",
    "     'Sabb17.MonoMac1',\n",
    "     'Sabb17.NB4.rep1',\n",
    "     'Sabb17.NB4.rep2',\n",
    "     'Sabb17.OCI.AML2',\n",
    "     'Sabb17.OCI.AML3',\n",
    "     'Sabb17.OCI.AML5',\n",
    "     'Sabb17.P31.FUJ',\n",
    "     'Sabb17.PL21',\n",
    "     'Sabb17.SKM1',\n",
    "     'Sabb17.TF1',\n",
    "     'Sabb17.THP1',\n",
    "     'Weis16.csa.MW.pvalue',\n",
    "     'Weis16.csa.avg',\n",
    "     'Weis16.csi.MW.pvalue',\n",
    "     'Weis16.csi.avg',\n",
    "     'LOF/Benign',\n",
    "     'Splicing/Benign',\n",
    "     'MissDamaging/Benign',\n",
    "     'TSGene'])"
   ]
  },
  {
   "cell_type": "code",
   "execution_count": 11,
   "metadata": {},
   "outputs": [],
   "source": [
    "no_pv = (\n",
    "    ['Gene',\n",
    "     'Brum.HAP1.GTS',\n",
    "     'Brum.KBM7.GTS',\n",
    "     'Weis14.csa.avg',\n",
    "     'Sabb15.KBM7.cs',\n",
    "     'Sabb15.K562.cs',\n",
    "     'Sabb17.EOL',\n",
    "     'Sabb17.HEL',\n",
    "     'Sabb17.MOLM13',\n",
    "     'Sabb17.MonoMac1',\n",
    "     'Sabb17.NB4.rep1',\n",
    "     'Sabb17.NB4.rep2',\n",
    "     'Sabb17.OCI.AML2',\n",
    "     'Sabb17.OCI.AML3',\n",
    "     'Sabb17.OCI.AML5',\n",
    "     'Sabb17.P31.FUJ',\n",
    "     'Sabb17.PL21',\n",
    "     'Sabb17.SKM1',\n",
    "     'Sabb17.TF1',\n",
    "     'Sabb17.THP1',\n",
    "     'Weis16.csa.avg',\n",
    "     'Weis16.csi.avg',\n",
    "     'LOF/Benign',\n",
    "     'Splicing/Benign',\n",
    "     'MissDamaging/Benign',\n",
    "     'TSGene'])"
   ]
  },
  {
   "cell_type": "code",
   "execution_count": 12,
   "metadata": {},
   "outputs": [],
   "source": [
    "no_elledge = (\n",
    "    ['Gene',\n",
    "     'Brum.HAP1.GTS',\n",
    "     'Brum.KBM7.GTS',\n",
    "     'Weis14.csa.avg',\n",
    "     'Sabb15.KBM7.cs',\n",
    "     'Sabb15.KBM7.fdr',\n",
    "     'Sabb15.K562.cs',\n",
    "     'Sabb15.K562.fdr',\n",
    "     'Sabb17.EOL',\n",
    "     'Sabb17.HEL',\n",
    "     'Sabb17.MOLM13',\n",
    "     'Sabb17.MonoMac1',\n",
    "     'Sabb17.NB4.rep1',\n",
    "     'Sabb17.NB4.rep2',\n",
    "     'Sabb17.OCI.AML2',\n",
    "     'Sabb17.OCI.AML3',\n",
    "     'Sabb17.OCI.AML5',\n",
    "     'Sabb17.P31.FUJ',\n",
    "     'Sabb17.PL21',\n",
    "     'Sabb17.SKM1',\n",
    "     'Sabb17.TF1',\n",
    "     'Sabb17.THP1',\n",
    "     'Weis16.csa.MW.pvalue',\n",
    "     'Weis16.csa.avg',\n",
    "     'Weis16.csi.MW.pvalue',\n",
    "     'Weis16.csi.avg',\n",
    "     'TSGene'])"
   ]
  },
  {
   "cell_type": "code",
   "execution_count": 13,
   "metadata": {},
   "outputs": [],
   "source": [
    "no_pv_elledge = (\n",
    "    ['Gene',\n",
    "     'Brum.HAP1.GTS',\n",
    "     'Brum.KBM7.GTS',\n",
    "     'Weis14.csa.avg',\n",
    "     'Sabb15.KBM7.cs',\n",
    "     'Sabb15.K562.cs',\n",
    "     'Sabb17.EOL',\n",
    "     'Sabb17.HEL',\n",
    "     'Sabb17.MOLM13',\n",
    "     'Sabb17.MonoMac1',\n",
    "     'Sabb17.NB4.rep1',\n",
    "     'Sabb17.NB4.rep2',\n",
    "     'Sabb17.OCI.AML2',\n",
    "     'Sabb17.OCI.AML3',\n",
    "     'Sabb17.OCI.AML5',\n",
    "     'Sabb17.P31.FUJ',\n",
    "     'Sabb17.PL21',\n",
    "     'Sabb17.SKM1',\n",
    "     'Sabb17.TF1',\n",
    "     'Sabb17.THP1',\n",
    "     'Weis16.csa.avg',\n",
    "     'Weis16.csi.avg',\n",
    "     'TSGene'])"
   ]
  },
  {
   "cell_type": "code",
   "execution_count": 15,
   "metadata": {},
   "outputs": [],
   "source": [
    "train = pd.read_csv('../../data/gwide_hema_classification/train.csv').drop(['Unnamed: 0'], axis = 1)\n",
    "test = pd.read_csv('../../data/gwide_hema_classification/test.csv').drop(['Unnamed: 0'], axis = 1)"
   ]
  },
  {
   "cell_type": "markdown",
   "metadata": {},
   "source": [
    "## Logistic Regression Model"
   ]
  },
  {
   "cell_type": "code",
   "execution_count": 173,
   "metadata": {},
   "outputs": [],
   "source": [
    "def visualize_result(df, model, x_test):\n",
    "    new = df.loc[:, ['Gene', 'TSGene']]\n",
    "    new['TS Predicted'] = model.predict(x_test)\n",
    "    out = new[new['TSGene'] == new['TS Predicted']]\n",
    "    return out.sort_values(['TSGene'], ascending = False)"
   ]
  },
  {
   "cell_type": "markdown",
   "metadata": {},
   "source": [
    "### No Elledge"
   ]
  },
  {
   "cell_type": "code",
   "execution_count": 197,
   "metadata": {},
   "outputs": [
    {
     "name": "stderr",
     "output_type": "stream",
     "text": [
      "/Users/s.n.zhou/opt/anaconda3/lib/python3.7/site-packages/sklearn/linear_model/sag.py:337: ConvergenceWarning: The max_iter was reached which means the coef_ did not converge\n",
      "  \"the coef_ did not converge\", ConvergenceWarning)\n"
     ]
    },
    {
     "data": {
      "text/plain": [
       "LogisticRegression(C=1.0, class_weight={0: 0.06, 1: 0.94}, dual=False,\n",
       "                   fit_intercept=True, intercept_scaling=1, l1_ratio=None,\n",
       "                   max_iter=200, multi_class='ovr', n_jobs=None, penalty='l2',\n",
       "                   random_state=None, solver='sag', tol=1e-09, verbose=0,\n",
       "                   warm_start=False)"
      ]
     },
     "execution_count": 197,
     "metadata": {},
     "output_type": "execute_result"
    }
   ],
   "source": [
    "x_train, y_train = process_data_gm(train, no_elledge)\n",
    "x_test, y_test = process_data_gm(test, no_elledge)\n",
    "logistic_regression_model = (LogisticRegression(multi_class='ovr', \n",
    "                                                solver = 'sag', \n",
    "                                                class_weight = {0:0.06, 1:0.94},\n",
    "                                                tol= 1e-9, \n",
    "                                                max_iter = 200))\n",
    "logistic_regression_model.fit(x_train, y_train)"
   ]
  },
  {
   "cell_type": "code",
   "execution_count": 198,
   "metadata": {},
   "outputs": [
    {
     "data": {
      "text/html": [
       "<div>\n",
       "<style scoped>\n",
       "    .dataframe tbody tr th:only-of-type {\n",
       "        vertical-align: middle;\n",
       "    }\n",
       "\n",
       "    .dataframe tbody tr th {\n",
       "        vertical-align: top;\n",
       "    }\n",
       "\n",
       "    .dataframe thead th {\n",
       "        text-align: right;\n",
       "    }\n",
       "</style>\n",
       "<table border=\"1\" class=\"dataframe\">\n",
       "  <thead>\n",
       "    <tr style=\"text-align: right;\">\n",
       "      <th></th>\n",
       "      <th>Gene</th>\n",
       "      <th>TSGene</th>\n",
       "      <th>TS Predicted</th>\n",
       "    </tr>\n",
       "  </thead>\n",
       "  <tbody>\n",
       "    <tr>\n",
       "      <td>652</td>\n",
       "      <td>HIPK2</td>\n",
       "      <td>1</td>\n",
       "      <td>1</td>\n",
       "    </tr>\n",
       "    <tr>\n",
       "      <td>371</td>\n",
       "      <td>TRIM24</td>\n",
       "      <td>1</td>\n",
       "      <td>1</td>\n",
       "    </tr>\n",
       "    <tr>\n",
       "      <td>303</td>\n",
       "      <td>MAD1L1</td>\n",
       "      <td>1</td>\n",
       "      <td>1</td>\n",
       "    </tr>\n",
       "    <tr>\n",
       "      <td>534</td>\n",
       "      <td>AKR1B1</td>\n",
       "      <td>1</td>\n",
       "      <td>1</td>\n",
       "    </tr>\n",
       "    <tr>\n",
       "      <td>0</td>\n",
       "      <td>VKORC1L1</td>\n",
       "      <td>0</td>\n",
       "      <td>0</td>\n",
       "    </tr>\n",
       "    <tr>\n",
       "      <td>...</td>\n",
       "      <td>...</td>\n",
       "      <td>...</td>\n",
       "      <td>...</td>\n",
       "    </tr>\n",
       "    <tr>\n",
       "      <td>280</td>\n",
       "      <td>FZD1</td>\n",
       "      <td>0</td>\n",
       "      <td>0</td>\n",
       "    </tr>\n",
       "    <tr>\n",
       "      <td>281</td>\n",
       "      <td>FZD9</td>\n",
       "      <td>0</td>\n",
       "      <td>0</td>\n",
       "    </tr>\n",
       "    <tr>\n",
       "      <td>282</td>\n",
       "      <td>GALNT11</td>\n",
       "      <td>0</td>\n",
       "      <td>0</td>\n",
       "    </tr>\n",
       "    <tr>\n",
       "      <td>283</td>\n",
       "      <td>GJC3</td>\n",
       "      <td>0</td>\n",
       "      <td>0</td>\n",
       "    </tr>\n",
       "    <tr>\n",
       "      <td>840</td>\n",
       "      <td>ZSCAN21</td>\n",
       "      <td>0</td>\n",
       "      <td>0</td>\n",
       "    </tr>\n",
       "  </tbody>\n",
       "</table>\n",
       "<p>697 rows × 3 columns</p>\n",
       "</div>"
      ],
      "text/plain": [
       "         Gene  TSGene  TS Predicted\n",
       "652     HIPK2       1             1\n",
       "371    TRIM24       1             1\n",
       "303    MAD1L1       1             1\n",
       "534    AKR1B1       1             1\n",
       "0    VKORC1L1       0             0\n",
       "..        ...     ...           ...\n",
       "280      FZD1       0             0\n",
       "281      FZD9       0             0\n",
       "282   GALNT11       0             0\n",
       "283      GJC3       0             0\n",
       "840   ZSCAN21       0             0\n",
       "\n",
       "[697 rows x 3 columns]"
      ]
     },
     "execution_count": 198,
     "metadata": {},
     "output_type": "execute_result"
    }
   ],
   "source": [
    "visualize_result(test, logistic_regression_model, x_test)"
   ]
  },
  {
   "cell_type": "code",
   "execution_count": 200,
   "metadata": {},
   "outputs": [
    {
     "data": {
      "text/plain": [
       "0.8823244338708256"
      ]
     },
     "execution_count": 200,
     "metadata": {},
     "output_type": "execute_result"
    }
   ],
   "source": [
    "lr_training_accuracy = logistic_regression_model.score(x_train, y_train)\n",
    "lr_training_accuracy"
   ]
  },
  {
   "cell_type": "code",
   "execution_count": 201,
   "metadata": {},
   "outputs": [
    {
     "data": {
      "text/plain": [
       "0.8287752675386445"
      ]
     },
     "execution_count": 201,
     "metadata": {},
     "output_type": "execute_result"
    }
   ],
   "source": [
    "lr_test_accuracy = logistic_regression_model.score(x_test, y_test)\n",
    "lr_test_accuracy"
   ]
  },
  {
   "cell_type": "markdown",
   "metadata": {},
   "source": [
    "### with elledge"
   ]
  },
  {
   "cell_type": "code",
   "execution_count": 193,
   "metadata": {},
   "outputs": [
    {
     "name": "stderr",
     "output_type": "stream",
     "text": [
      "/Users/s.n.zhou/opt/anaconda3/lib/python3.7/site-packages/sklearn/linear_model/sag.py:337: ConvergenceWarning: The max_iter was reached which means the coef_ did not converge\n",
      "  \"the coef_ did not converge\", ConvergenceWarning)\n"
     ]
    },
    {
     "data": {
      "text/plain": [
       "LogisticRegression(C=1.0, class_weight={0: 0.06, 1: 0.94}, dual=False,\n",
       "                   fit_intercept=True, intercept_scaling=1, l1_ratio=None,\n",
       "                   max_iter=200, multi_class='ovr', n_jobs=None, penalty='l2',\n",
       "                   random_state=None, solver='sag', tol=1e-09, verbose=0,\n",
       "                   warm_start=False)"
      ]
     },
     "execution_count": 193,
     "metadata": {},
     "output_type": "execute_result"
    }
   ],
   "source": [
    "x_train, y_train = process_data_gm(train, all_col)\n",
    "x_test, y_test = process_data_gm(test, all_col)\n",
    "lrm = (LogisticRegression(multi_class='ovr', \n",
    "                          solver = 'sag', \n",
    "                          class_weight = {0:0.06, 1:0.94},\n",
    "                          tol= 1e-9, \n",
    "                          max_iter = 200))\n",
    "lrm.fit(x_train, y_train)"
   ]
  },
  {
   "cell_type": "code",
   "execution_count": 194,
   "metadata": {},
   "outputs": [
    {
     "data": {
      "text/plain": [
       "2.2962962962962963"
      ]
     },
     "execution_count": 194,
     "metadata": {},
     "output_type": "execute_result"
    }
   ],
   "source": [
    "sum(lrm.predict(x_test))/sum(y_test)"
   ]
  },
  {
   "cell_type": "code",
   "execution_count": 196,
   "metadata": {},
   "outputs": [
    {
     "data": {
      "text/html": [
       "<div>\n",
       "<style scoped>\n",
       "    .dataframe tbody tr th:only-of-type {\n",
       "        vertical-align: middle;\n",
       "    }\n",
       "\n",
       "    .dataframe tbody tr th {\n",
       "        vertical-align: top;\n",
       "    }\n",
       "\n",
       "    .dataframe thead th {\n",
       "        text-align: right;\n",
       "    }\n",
       "</style>\n",
       "<table border=\"1\" class=\"dataframe\">\n",
       "  <thead>\n",
       "    <tr style=\"text-align: right;\">\n",
       "      <th></th>\n",
       "      <th>Gene</th>\n",
       "      <th>TSGene</th>\n",
       "      <th>TS Predicted</th>\n",
       "    </tr>\n",
       "  </thead>\n",
       "  <tbody>\n",
       "    <tr>\n",
       "      <td>113</td>\n",
       "      <td>EZH2</td>\n",
       "      <td>1</td>\n",
       "      <td>1</td>\n",
       "    </tr>\n",
       "    <tr>\n",
       "      <td>532</td>\n",
       "      <td>AIMP2</td>\n",
       "      <td>1</td>\n",
       "      <td>1</td>\n",
       "    </tr>\n",
       "    <tr>\n",
       "      <td>512</td>\n",
       "      <td>CCDC136</td>\n",
       "      <td>1</td>\n",
       "      <td>1</td>\n",
       "    </tr>\n",
       "    <tr>\n",
       "      <td>652</td>\n",
       "      <td>HIPK2</td>\n",
       "      <td>1</td>\n",
       "      <td>1</td>\n",
       "    </tr>\n",
       "    <tr>\n",
       "      <td>660</td>\n",
       "      <td>ING3</td>\n",
       "      <td>1</td>\n",
       "      <td>1</td>\n",
       "    </tr>\n",
       "    <tr>\n",
       "      <td>92</td>\n",
       "      <td>CUX1</td>\n",
       "      <td>1</td>\n",
       "      <td>1</td>\n",
       "    </tr>\n",
       "    <tr>\n",
       "      <td>0</td>\n",
       "      <td>VKORC1L1</td>\n",
       "      <td>0</td>\n",
       "      <td>0</td>\n",
       "    </tr>\n",
       "    <tr>\n",
       "      <td>575</td>\n",
       "      <td>CLDN12</td>\n",
       "      <td>0</td>\n",
       "      <td>0</td>\n",
       "    </tr>\n",
       "    <tr>\n",
       "      <td>566</td>\n",
       "      <td>CCDC126</td>\n",
       "      <td>0</td>\n",
       "      <td>0</td>\n",
       "    </tr>\n",
       "    <tr>\n",
       "      <td>567</td>\n",
       "      <td>CCDC146</td>\n",
       "      <td>0</td>\n",
       "      <td>0</td>\n",
       "    </tr>\n",
       "    <tr>\n",
       "      <td>568</td>\n",
       "      <td>CCL26</td>\n",
       "      <td>0</td>\n",
       "      <td>0</td>\n",
       "    </tr>\n",
       "    <tr>\n",
       "      <td>569</td>\n",
       "      <td>CCM2</td>\n",
       "      <td>0</td>\n",
       "      <td>0</td>\n",
       "    </tr>\n",
       "    <tr>\n",
       "      <td>570</td>\n",
       "      <td>CD36</td>\n",
       "      <td>0</td>\n",
       "      <td>0</td>\n",
       "    </tr>\n",
       "    <tr>\n",
       "      <td>574</td>\n",
       "      <td>CHRM2</td>\n",
       "      <td>0</td>\n",
       "      <td>0</td>\n",
       "    </tr>\n",
       "    <tr>\n",
       "      <td>577</td>\n",
       "      <td>CLDN3</td>\n",
       "      <td>0</td>\n",
       "      <td>0</td>\n",
       "    </tr>\n",
       "    <tr>\n",
       "      <td>576</td>\n",
       "      <td>CLDN12</td>\n",
       "      <td>0</td>\n",
       "      <td>0</td>\n",
       "    </tr>\n",
       "    <tr>\n",
       "      <td>564</td>\n",
       "      <td>CASD1</td>\n",
       "      <td>0</td>\n",
       "      <td>0</td>\n",
       "    </tr>\n",
       "    <tr>\n",
       "      <td>578</td>\n",
       "      <td>CNOT4</td>\n",
       "      <td>0</td>\n",
       "      <td>0</td>\n",
       "    </tr>\n",
       "    <tr>\n",
       "      <td>579</td>\n",
       "      <td>COA1</td>\n",
       "      <td>0</td>\n",
       "      <td>0</td>\n",
       "    </tr>\n",
       "    <tr>\n",
       "      <td>580</td>\n",
       "      <td>COBL</td>\n",
       "      <td>0</td>\n",
       "      <td>0</td>\n",
       "    </tr>\n",
       "  </tbody>\n",
       "</table>\n",
       "</div>"
      ],
      "text/plain": [
       "         Gene  TSGene  TS Predicted\n",
       "113      EZH2       1             1\n",
       "532     AIMP2       1             1\n",
       "512   CCDC136       1             1\n",
       "652     HIPK2       1             1\n",
       "660      ING3       1             1\n",
       "92       CUX1       1             1\n",
       "0    VKORC1L1       0             0\n",
       "575    CLDN12       0             0\n",
       "566   CCDC126       0             0\n",
       "567   CCDC146       0             0\n",
       "568     CCL26       0             0\n",
       "569      CCM2       0             0\n",
       "570      CD36       0             0\n",
       "574     CHRM2       0             0\n",
       "577     CLDN3       0             0\n",
       "576    CLDN12       0             0\n",
       "564     CASD1       0             0\n",
       "578     CNOT4       0             0\n",
       "579      COA1       0             0\n",
       "580      COBL       0             0"
      ]
     },
     "execution_count": 196,
     "metadata": {},
     "output_type": "execute_result"
    }
   ],
   "source": [
    "out = visualize_result(test, lrm, x_test)\n",
    "out.head(20)"
   ]
  },
  {
   "cell_type": "code",
   "execution_count": 207,
   "metadata": {},
   "outputs": [
    {
     "data": {
      "text/plain": [
       "2.111111111111111"
      ]
     },
     "execution_count": 207,
     "metadata": {},
     "output_type": "execute_result"
    }
   ],
   "source": [
    "sum(lrm.predict(x_test))/sum(y_test)"
   ]
  },
  {
   "cell_type": "markdown",
   "metadata": {},
   "source": [
    "## Random Forest"
   ]
  },
  {
   "cell_type": "markdown",
   "metadata": {},
   "source": [
    "### no elledge"
   ]
  },
  {
   "cell_type": "code",
   "execution_count": null,
   "metadata": {},
   "outputs": [],
   "source": [
    "x_train, y_train = process_data_gm(train, no_elledge)\n",
    "x_test, y_test = process_data_gm(test, no_elledge)\n",
    "rfm = ensemble.RandomForestClassifier(n_estimators = 100)\n",
    "rfm.fit(x_train, y_train)"
   ]
  },
  {
   "cell_type": "code",
   "execution_count": null,
   "metadata": {},
   "outputs": [],
   "source": [
    "out = visualize_result(test, rfm, x_test)\n",
    "out[out['TSGene']==1]['Gene']"
   ]
  },
  {
   "cell_type": "markdown",
   "metadata": {},
   "source": [
    "### with elledge"
   ]
  },
  {
   "cell_type": "code",
   "execution_count": null,
   "metadata": {},
   "outputs": [],
   "source": [
    "x_train, y_train = process_data_gm(train, all_col)\n",
    "x_test, y_test = process_data_gm(test, all_col)\n",
    "rfm = ensemble.RandomForestClassifier(n_estimators = 100)\n",
    "rfm.fit(x_train, y_train)"
   ]
  },
  {
   "cell_type": "code",
   "execution_count": null,
   "metadata": {},
   "outputs": [],
   "source": [
    "out = visualize_result(test, rfm, x_test)\n",
    "out[out['TSGene']==1]['Gene']"
   ]
  },
  {
   "cell_type": "code",
   "execution_count": null,
   "metadata": {},
   "outputs": [],
   "source": []
  }
 ],
 "metadata": {
  "kernelspec": {
   "display_name": "Python 3",
   "language": "python",
   "name": "python3"
  },
  "language_info": {
   "codemirror_mode": {
    "name": "ipython",
    "version": 3
   },
   "file_extension": ".py",
   "mimetype": "text/x-python",
   "name": "python",
   "nbconvert_exporter": "python",
   "pygments_lexer": "ipython3",
   "version": "3.7.4"
  }
 },
 "nbformat": 4,
 "nbformat_minor": 2
}
